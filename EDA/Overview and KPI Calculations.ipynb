{
 "cells": [
  {
   "cell_type": "markdown",
   "id": "0f742dd5-1551-4d17-9b7c-d90757914771",
   "metadata": {},
   "source": [
    "# Importing Libraries"
   ]
  },
  {
   "cell_type": "code",
   "execution_count": 13,
   "id": "f5b9413b-5fc2-4054-8453-726c54beea9e",
   "metadata": {},
   "outputs": [],
   "source": [
    "import pandas as pd\n",
    "import matplotlib.pyplot as plt\n",
    "import seaborn as sns"
   ]
  },
  {
   "cell_type": "markdown",
   "id": "d27ccaad-7fb0-461b-816c-32ae728183da",
   "metadata": {},
   "source": [
    "# Reading File"
   ]
  },
  {
   "cell_type": "code",
   "execution_count": 16,
   "id": "d25fea5f-a7d7-48a1-a6df-cd0ff26641a2",
   "metadata": {},
   "outputs": [],
   "source": [
    "df = pd.read_csv(r\"E:\\E commerce project\\Cleaned_Ecommerce_Data _working.csv\")"
   ]
  },
  {
   "cell_type": "markdown",
   "id": "3d34d172-60dc-4623-a08f-1f681eb78f2b",
   "metadata": {},
   "source": [
    "# Checking Structure"
   ]
  },
  {
   "cell_type": "code",
   "execution_count": 19,
   "id": "9aadb8d6-2bbd-4626-8ae6-6a01485f083c",
   "metadata": {},
   "outputs": [
    {
     "data": {
      "text/plain": [
       "Index(['Customer_Id', 'Age', 'Gender', 'Income_Level', 'Marital_Status',\n",
       "       'Education_Level', 'Occupation', 'Location', 'Purchase_Category',\n",
       "       'Purchase_Amount', 'Frequency_Of_Purchase', 'Purchase_Channel',\n",
       "       'Brand_Loyalty', 'Product_Rating',\n",
       "       'Time_Spent_On_Product_Research(Hours)', 'Social_Media_Influence',\n",
       "       'Discount_Sensitivity', 'Return_Rate', 'Customer_Satisfaction',\n",
       "       'Engagement_With_Ads', 'Device_Used_For_Shopping', 'Payment_Method',\n",
       "       'Time_Of_Purchase', 'Discount_Used', 'Customer_Loyalty_Program_Member',\n",
       "       'Purchase_Intent', 'Shipping_Preference', 'Time_To_Decision',\n",
       "       'Purchase_Day', 'Is_Weekend'],\n",
       "      dtype='object')"
      ]
     },
     "execution_count": 19,
     "metadata": {},
     "output_type": "execute_result"
    }
   ],
   "source": [
    "df.columns  #checking names to columns"
   ]
  },
  {
   "cell_type": "code",
   "execution_count": 21,
   "id": "c2aecb9f-7e9d-43f5-b929-485d946d0d2a",
   "metadata": {},
   "outputs": [
    {
     "data": {
      "text/plain": [
       "Customer_Id                               object\n",
       "Age                                        int64\n",
       "Gender                                    object\n",
       "Income_Level                              object\n",
       "Marital_Status                            object\n",
       "Education_Level                           object\n",
       "Occupation                                object\n",
       "Location                                  object\n",
       "Purchase_Category                         object\n",
       "Purchase_Amount                          float64\n",
       "Frequency_Of_Purchase                      int64\n",
       "Purchase_Channel                          object\n",
       "Brand_Loyalty                              int64\n",
       "Product_Rating                           float64\n",
       "Time_Spent_On_Product_Research(Hours)    float64\n",
       "Social_Media_Influence                    object\n",
       "Discount_Sensitivity                      object\n",
       "Return_Rate                                int64\n",
       "Customer_Satisfaction                      int64\n",
       "Engagement_With_Ads                       object\n",
       "Device_Used_For_Shopping                  object\n",
       "Payment_Method                            object\n",
       "Time_Of_Purchase                          object\n",
       "Discount_Used                               bool\n",
       "Customer_Loyalty_Program_Member             bool\n",
       "Purchase_Intent                           object\n",
       "Shipping_Preference                       object\n",
       "Time_To_Decision                           int64\n",
       "Purchase_Day                              object\n",
       "Is_Weekend                                  bool\n",
       "dtype: object"
      ]
     },
     "execution_count": 21,
     "metadata": {},
     "output_type": "execute_result"
    }
   ],
   "source": [
    "df.dtypes  # checking data type of columns"
   ]
  },
  {
   "cell_type": "code",
   "execution_count": null,
   "id": "48580ca7-693b-43ce-acfb-a6177c545ef8",
   "metadata": {},
   "outputs": [],
   "source": []
  },
  {
   "cell_type": "markdown",
   "id": "93d276a9-825b-4e97-a717-380bbf753f55",
   "metadata": {},
   "source": [
    "# --- Basic Overview"
   ]
  },
  {
   "cell_type": "code",
   "execution_count": 25,
   "id": "d61f24a3-d1af-49c0-a55e-b889accfa683",
   "metadata": {},
   "outputs": [
    {
     "name": "stdout",
     "output_type": "stream",
     "text": [
      "<class 'pandas.core.frame.DataFrame'>\n",
      "RangeIndex: 1000 entries, 0 to 999\n",
      "Data columns (total 30 columns):\n",
      " #   Column                                 Non-Null Count  Dtype  \n",
      "---  ------                                 --------------  -----  \n",
      " 0   Customer_Id                            1000 non-null   object \n",
      " 1   Age                                    1000 non-null   int64  \n",
      " 2   Gender                                 1000 non-null   object \n",
      " 3   Income_Level                           1000 non-null   object \n",
      " 4   Marital_Status                         1000 non-null   object \n",
      " 5   Education_Level                        1000 non-null   object \n",
      " 6   Occupation                             1000 non-null   object \n",
      " 7   Location                               1000 non-null   object \n",
      " 8   Purchase_Category                      1000 non-null   object \n",
      " 9   Purchase_Amount                        1000 non-null   float64\n",
      " 10  Frequency_Of_Purchase                  1000 non-null   int64  \n",
      " 11  Purchase_Channel                       1000 non-null   object \n",
      " 12  Brand_Loyalty                          1000 non-null   int64  \n",
      " 13  Product_Rating                         1000 non-null   float64\n",
      " 14  Time_Spent_On_Product_Research(Hours)  1000 non-null   float64\n",
      " 15  Social_Media_Influence                 1000 non-null   object \n",
      " 16  Discount_Sensitivity                   1000 non-null   object \n",
      " 17  Return_Rate                            1000 non-null   int64  \n",
      " 18  Customer_Satisfaction                  1000 non-null   int64  \n",
      " 19  Engagement_With_Ads                    1000 non-null   object \n",
      " 20  Device_Used_For_Shopping               1000 non-null   object \n",
      " 21  Payment_Method                         1000 non-null   object \n",
      " 22  Time_Of_Purchase                       1000 non-null   object \n",
      " 23  Discount_Used                          1000 non-null   bool   \n",
      " 24  Customer_Loyalty_Program_Member        1000 non-null   bool   \n",
      " 25  Purchase_Intent                        1000 non-null   object \n",
      " 26  Shipping_Preference                    1000 non-null   object \n",
      " 27  Time_To_Decision                       1000 non-null   int64  \n",
      " 28  Purchase_Day                           1000 non-null   object \n",
      " 29  Is_Weekend                             1000 non-null   bool   \n",
      "dtypes: bool(3), float64(3), int64(6), object(18)\n",
      "memory usage: 214.0+ KB\n",
      "None\n"
     ]
    }
   ],
   "source": [
    "print(df.info())"
   ]
  },
  {
   "cell_type": "code",
   "execution_count": 27,
   "id": "8d12143f-09ff-4422-ba09-6fb857d25587",
   "metadata": {},
   "outputs": [
    {
     "name": "stdout",
     "output_type": "stream",
     "text": [
      "               Age  Purchase_Amount  Frequency_Of_Purchase  Brand_Loyalty  \\\n",
      "count  1000.000000      1000.000000            1000.000000    1000.000000   \n",
      "mean     34.304000       275.063880               6.945000       3.026000   \n",
      "std       9.353238       131.532998               3.147361       1.416803   \n",
      "min      18.000000        50.710000               2.000000       1.000000   \n",
      "25%      26.000000       162.235000               4.000000       2.000000   \n",
      "50%      34.500000       276.165000               7.000000       3.000000   \n",
      "75%      42.000000       388.982500              10.000000       4.000000   \n",
      "max      50.000000       498.330000              12.000000       5.000000   \n",
      "\n",
      "       Product_Rating  Time_Spent_On_Product_Research(Hours)  Return_Rate  \\\n",
      "count     1000.000000                            1000.000000  1000.000000   \n",
      "mean         3.033000                               1.013030     0.954000   \n",
      "std          1.436654                               0.791802     0.810272   \n",
      "min          1.000000                               0.000000     0.000000   \n",
      "25%          2.000000                               0.000000     0.000000   \n",
      "50%          3.000000                               1.000000     1.000000   \n",
      "75%          4.000000                               2.000000     2.000000   \n",
      "max          5.000000                               2.000000     2.000000   \n",
      "\n",
      "       Customer_Satisfaction  Time_To_Decision  \n",
      "count            1000.000000       1000.000000  \n",
      "mean                5.399000          7.547000  \n",
      "std                 2.868454          4.035849  \n",
      "min                 1.000000          1.000000  \n",
      "25%                 3.000000          4.000000  \n",
      "50%                 5.000000          8.000000  \n",
      "75%                 8.000000         11.000000  \n",
      "max                10.000000         14.000000  \n"
     ]
    }
   ],
   "source": [
    "print(df.describe())"
   ]
  },
  {
   "cell_type": "code",
   "execution_count": null,
   "id": "7e4fab82-3ce4-4b2f-ae35-692da3d73121",
   "metadata": {},
   "outputs": [],
   "source": []
  },
  {
   "cell_type": "markdown",
   "id": "0fb0d006-44cb-45e0-ab35-e23bbe92318d",
   "metadata": {},
   "source": [
    "# Checking total number of null values"
   ]
  },
  {
   "cell_type": "code",
   "execution_count": 31,
   "id": "2683e402-7398-4681-a8fa-ed65c9833174",
   "metadata": {},
   "outputs": [
    {
     "name": "stdout",
     "output_type": "stream",
     "text": [
      "Customer_Id                              0\n",
      "Age                                      0\n",
      "Gender                                   0\n",
      "Income_Level                             0\n",
      "Marital_Status                           0\n",
      "Education_Level                          0\n",
      "Occupation                               0\n",
      "Location                                 0\n",
      "Purchase_Category                        0\n",
      "Purchase_Amount                          0\n",
      "Frequency_Of_Purchase                    0\n",
      "Purchase_Channel                         0\n",
      "Brand_Loyalty                            0\n",
      "Product_Rating                           0\n",
      "Time_Spent_On_Product_Research(Hours)    0\n",
      "Social_Media_Influence                   0\n",
      "Discount_Sensitivity                     0\n",
      "Return_Rate                              0\n",
      "Customer_Satisfaction                    0\n",
      "Engagement_With_Ads                      0\n",
      "Device_Used_For_Shopping                 0\n",
      "Payment_Method                           0\n",
      "Time_Of_Purchase                         0\n",
      "Discount_Used                            0\n",
      "Customer_Loyalty_Program_Member          0\n",
      "Purchase_Intent                          0\n",
      "Shipping_Preference                      0\n",
      "Time_To_Decision                         0\n",
      "Purchase_Day                             0\n",
      "Is_Weekend                               0\n",
      "dtype: int64\n"
     ]
    }
   ],
   "source": [
    "print(df.isnull().sum())"
   ]
  },
  {
   "cell_type": "code",
   "execution_count": null,
   "id": "6cb17cfd-d770-4413-bd26-3ff95c9672f0",
   "metadata": {},
   "outputs": [],
   "source": []
  },
  {
   "cell_type": "markdown",
   "id": "2699a30b-1118-4023-bb4d-a7ce429dedd4",
   "metadata": {},
   "source": [
    "# --- KPI Calculations"
   ]
  },
  {
   "cell_type": "code",
   "execution_count": 35,
   "id": "b54ab4bf-b3a7-47a3-88ae-33f790d167db",
   "metadata": {},
   "outputs": [],
   "source": [
    "# calculating total revenue"
   ]
  },
  {
   "cell_type": "code",
   "execution_count": 37,
   "id": "c7ce4538-405f-4b87-9acb-f353f4bc992f",
   "metadata": {},
   "outputs": [
    {
     "name": "stdout",
     "output_type": "stream",
     "text": [
      "Total Revenue: ₹275063.88\n"
     ]
    }
   ],
   "source": [
    "\n",
    "total_revenue = df['Purchase_Amount'].sum()\n",
    "print(f\"Total Revenue: ₹{total_revenue:.2f}\")"
   ]
  },
  {
   "cell_type": "code",
   "execution_count": null,
   "id": "13ba2b4f-504e-4c05-be6e-bb7e7fcdb7b7",
   "metadata": {},
   "outputs": [],
   "source": []
  },
  {
   "cell_type": "code",
   "execution_count": 40,
   "id": "06eb1d2a-0eac-48e0-89dc-d71329f8d49a",
   "metadata": {},
   "outputs": [],
   "source": [
    "# Calculating repeat customer rate  "
   ]
  },
  {
   "cell_type": "code",
   "execution_count": 42,
   "id": "0d7b7469-1ef3-4715-be36-8db652ab461c",
   "metadata": {},
   "outputs": [
    {
     "name": "stdout",
     "output_type": "stream",
     "text": [
      "Repeat Customer Rate: 100.00%\n"
     ]
    }
   ],
   "source": [
    "\n",
    "repeat_customer_rate = df['Frequency_Of_Purchase'].gt(1).mean()\n",
    "print(f\"Repeat Customer Rate: {repeat_customer_rate:.2%}\")"
   ]
  },
  {
   "cell_type": "code",
   "execution_count": null,
   "id": "ffb3dcb3-a373-479e-b688-aa1ae8eacc0a",
   "metadata": {},
   "outputs": [],
   "source": []
  },
  {
   "cell_type": "code",
   "execution_count": 45,
   "id": "77497103-9fe3-44c5-bca6-f501740da36c",
   "metadata": {},
   "outputs": [],
   "source": [
    "# Calculating average purchase value per order"
   ]
  },
  {
   "cell_type": "code",
   "execution_count": 47,
   "id": "974cc59a-94e5-4950-a07b-8c575aba8f2b",
   "metadata": {},
   "outputs": [
    {
     "name": "stdout",
     "output_type": "stream",
     "text": [
      "Average Purchase Amount: ₹275.06\n"
     ]
    }
   ],
   "source": [
    "\n",
    "avg_purchase = df['Purchase_Amount'].mean()\n",
    "print(f\"Average Purchase Amount: ₹{avg_purchase:.2f}\")"
   ]
  },
  {
   "cell_type": "code",
   "execution_count": null,
   "id": "2c475668-4049-44ee-8a5c-6ffb8fdc6466",
   "metadata": {},
   "outputs": [],
   "source": []
  },
  {
   "cell_type": "code",
   "execution_count": 50,
   "id": "e8e2693e-a9e8-4ce0-9bfd-9b95a83f390d",
   "metadata": {},
   "outputs": [],
   "source": [
    "# Calculating average satisfaction of customer"
   ]
  },
  {
   "cell_type": "code",
   "execution_count": 52,
   "id": "5b81f8b2-06a3-4ac7-a4ce-8d864fe34320",
   "metadata": {},
   "outputs": [
    {
     "name": "stdout",
     "output_type": "stream",
     "text": [
      "Average Customer Satisfaction: 5.40/10\n"
     ]
    }
   ],
   "source": [
    "\n",
    "avg_satisfaction = df['Customer_Satisfaction'].mean()\n",
    "print(f\"Average Customer Satisfaction: {avg_satisfaction:.2f}/10\")"
   ]
  },
  {
   "cell_type": "code",
   "execution_count": null,
   "id": "267462c5-0f41-4485-933e-bdec1fcce35f",
   "metadata": {},
   "outputs": [],
   "source": []
  }
 ],
 "metadata": {
  "kernelspec": {
   "display_name": "Python [conda env:base] *",
   "language": "python",
   "name": "conda-base-py"
  },
  "language_info": {
   "codemirror_mode": {
    "name": "ipython",
    "version": 3
   },
   "file_extension": ".py",
   "mimetype": "text/x-python",
   "name": "python",
   "nbconvert_exporter": "python",
   "pygments_lexer": "ipython3",
   "version": "3.12.7"
  }
 },
 "nbformat": 4,
 "nbformat_minor": 5
}
